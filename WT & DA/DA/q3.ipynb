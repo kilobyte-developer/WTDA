{
 "cells": [
  {
   "cell_type": "code",
   "execution_count": 1,
   "metadata": {},
   "outputs": [
    {
     "name": "stdout",
     "output_type": "stream",
     "text": [
      "Mean Absolute Error: 1039.4452744586706\n",
      "Model Coefficients: [13.61826178 -2.33323035  1.04849248]\n",
      "Intercept: 2835.418027202459\n"
     ]
    }
   ],
   "source": [
    "import pandas as pd\n",
    "import numpy as np\n",
    "from sklearn.model_selection import train_test_split\n",
    "from sklearn.linear_model import LinearRegression\n",
    "from sklearn.metrics import mean_absolute_error\n",
    "\n",
    "# Generate random dataset\n",
    "np.random.seed(42)\n",
    "data = {\n",
    "    'Species': np.random.choice(['Salmon', 'Tuna', 'Trout'], 500),\n",
    "    'Length': np.random.uniform(20, 100, 500),  # Fish length in cm\n",
    "    'Girth': np.random.uniform(10, 50, 500),   # Fish girth in cm\n",
    "    'Weight': np.random.uniform(500, 5000, 500)  # Fish weight in grams\n",
    "}\n",
    "\n",
    "# Create DataFrame\n",
    "df = pd.DataFrame(data)\n",
    "\n",
    "# Encode species as numeric values\n",
    "df['Species'] = df['Species'].astype('category').cat.codes  # Salmon=0, Tuna=1, Trout=2\n",
    "\n",
    "# Define independent and dependent variables\n",
    "X = df[['Species', 'Length', 'Girth']]\n",
    "y = df['Weight']\n",
    "\n",
    "# Split dataset into 70% training and 30% testing\n",
    "X_train, X_test, y_train, y_test = train_test_split(X, y, test_size=0.3, random_state=42)\n",
    "\n",
    "# Build linear regression model\n",
    "model = LinearRegression()\n",
    "model.fit(X_train, y_train)\n",
    "\n",
    "# Predict on test set\n",
    "y_pred = model.predict(X_test)\n",
    "\n",
    "# Print results\n",
    "mae = mean_absolute_error(y_test, y_pred)\n",
    "print(\"Mean Absolute Error:\", mae)\n",
    "print(\"Model Coefficients:\", model.coef_)\n",
    "print(\"Intercept:\", model.intercept_)\n"
   ]
  }
 ],
 "metadata": {
  "kernelspec": {
   "display_name": "Python 3",
   "language": "python",
   "name": "python3"
  },
  "language_info": {
   "codemirror_mode": {
    "name": "ipython",
    "version": 3
   },
   "file_extension": ".py",
   "mimetype": "text/x-python",
   "name": "python",
   "nbconvert_exporter": "python",
   "pygments_lexer": "ipython3",
   "version": "3.12.4"
  }
 },
 "nbformat": 4,
 "nbformat_minor": 2
}
