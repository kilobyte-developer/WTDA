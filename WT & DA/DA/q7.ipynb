{
 "cells": [
  {
   "cell_type": "code",
   "execution_count": 19,
   "metadata": {},
   "outputs": [
    {
     "name": "stdout",
     "output_type": "stream",
     "text": [
      "Frequent Itemsets:\n",
      "      support                          itemsets\n",
      "0   0.018519        (=> NIRVANA HOOKAH SINGLE)\n",
      "1   0.018519  (POUTINE WITH FRIES            )\n",
      "2   0.018519  (QUA  MINERAL WATER(1000ML)    )\n",
      "3   0.055556  (RED BULL ENERGY DRINK         )\n",
      "4   0.074074  (B.M.T. PANINI                 )\n",
      "5   0.018519  (CAFFE LATTE                   )\n",
      "6   0.055556  (RED BULL 2+1                  )\n",
      "7   0.018519  (MOROCCAN MINT TEA             )\n",
      "8   0.018519  (MASALA CHAI CUTTING           )\n",
      "9   0.018519  (PHILLYCREAM CHEESE &CHILLY PAN)\n",
      "10  0.055556  (MAGGI NDL ARRABIATA           )\n",
      "11  0.055556  (COTTAGE CHEESE PANINI         )\n",
      "12  0.018519  (KIT KAT SHAKE                 )\n",
      "13  0.037037  (QUA  MINERAL WATER(500ML)     )\n",
      "14  0.018519  (GARDEN FRESH PANINI           )\n",
      "15  0.055556  (MAGGI NDLCREAM/ CHEE/GARLIC   )\n",
      "16  0.092593  (ADD FRIES                     )\n",
      "17  0.018519  (COUNTRY ROAST CHICKEN PANINI  )\n",
      "18  0.018519  (COOL CALIFORNICA              )\n",
      "19  0.037037  (ADD HAZELNUT FLAVOUR          )\n",
      "20  0.018519  (ULTIMATE HOT CHOCOLATE        )\n",
      "21  0.018519  (THE FERROR ROCHER SHAKE       )\n",
      "22  0.018519  (BUN MASKA & CHAI              )\n",
      "23  0.018519  (THE CHOCO LATTE               )\n",
      "24  0.018519  (VANILLA ICECREAM              )\n",
      "25  0.018519  (ESPRESSO                      )\n",
      "26  0.037037  (MEZE PLATTER                  )\n",
      "27  0.018519  (DOPPIO                        )\n",
      "28  0.037037  (VEG. CLUB WRAP                )\n",
      "29  0.018519  (ADD HERB ROAST CHICKEN        )\n",
      "30  0.018519  (LEMON INFUSED CHAR GRILLED VEG)\n",
      "31  0.018519  (FRENCH FRIES                  )\n",
      "32  0.018519  (BLACK CURRANT ICED TEA        )\n",
      "\n",
      "Association Rules:\n",
      " Empty DataFrame\n",
      "Columns: [antecedents, consequents, antecedent support, consequent support, support, confidence, lift, representativity, leverage, conviction, zhangs_metric, jaccard, certainty, kulczynski]\n",
      "Index: []\n"
     ]
    },
    {
     "name": "stderr",
     "output_type": "stream",
     "text": [
      "c:\\Users\\Atharva Funde\\AppData\\Local\\Programs\\Python\\Python312\\Lib\\site-packages\\mlxtend\\frequent_patterns\\fpcommon.py:161: DeprecationWarning: DataFrames with non-bool types result in worse computationalperformance and their support might be discontinued in the future.Please use a DataFrame with bool type\n",
      "  warnings.warn(\n"
     ]
    }
   ],
   "source": [
    "import pandas as pd\n",
    "from mlxtend.frequent_patterns import apriori, association_rules\n",
    "\n",
    "# Load the dataset\n",
    "file_path = \"Market_Basket_analysis.csv\"\n",
    "df = pd.read_csv(file_path)\n",
    "\n",
    "# Extract transactions from 'rules' column (Assuming LHS items are listed)\n",
    "df['rules'] = df['rules'].str.replace(\"{\", \"\").str.replace(\"}\", \"\").str.strip()\n",
    "transactions = df['rules'].dropna().str.split(\" => \").str[0].str.split(\", \")\n",
    "\n",
    "# Convert to one-hot encoding format\n",
    "itemset = pd.DataFrame([{item: 1 for item in row} for row in transactions]).fillna(0)\n",
    "\n",
    "# Apply Apriori Algorithm\n",
    "frequent_itemsets = apriori(itemset, min_support=0.005, use_colnames=True)\n",
    "rules = association_rules(frequent_itemsets, metric=\"confidence\", min_threshold=0.2)\n",
    "\n",
    "# Display results\n",
    "print(\"Frequent Itemsets:\\n\", frequent_itemsets)\n",
    "print(\"\\nAssociation Rules:\\n\", rules)\n"
   ]
  },
  {
   "cell_type": "code",
   "execution_count": 15,
   "metadata": {},
   "outputs": [
    {
     "name": "stderr",
     "output_type": "stream",
     "text": [
      "c:\\Users\\Atharva Funde\\AppData\\Local\\Programs\\Python\\Python312\\Lib\\site-packages\\mlxtend\\frequent_patterns\\fpcommon.py:161: DeprecationWarning: DataFrames with non-bool types result in worse computationalperformance and their support might be discontinued in the future.Please use a DataFrame with bool type\n",
      "  warnings.warn(\n"
     ]
    },
    {
     "ename": "ValueError",
     "evalue": "The allowed values for a DataFrame are True, False, 0, 1. Found value {} => {NIRVANA HOOKAH SINGLE         }",
     "output_type": "error",
     "traceback": [
      "\u001b[1;31m---------------------------------------------------------------------------\u001b[0m",
      "\u001b[1;31mValueError\u001b[0m                                Traceback (most recent call last)",
      "Cell \u001b[1;32mIn[15], line 8\u001b[0m\n\u001b[0;32m      4\u001b[0m data \u001b[38;5;241m=\u001b[39m pd\u001b[38;5;241m.\u001b[39mread_csv(\u001b[38;5;124m'\u001b[39m\u001b[38;5;124mMarket_Basket_analysis.csv\u001b[39m\u001b[38;5;124m'\u001b[39m)\n\u001b[0;32m      6\u001b[0m df \u001b[38;5;241m=\u001b[39m pd\u001b[38;5;241m.\u001b[39mDataFrame(data)\n\u001b[1;32m----> 8\u001b[0m frequent_itemsets \u001b[38;5;241m=\u001b[39m \u001b[43mapriori\u001b[49m\u001b[43m(\u001b[49m\u001b[43mdf\u001b[49m\u001b[43m,\u001b[49m\u001b[43m \u001b[49m\u001b[43mmin_support\u001b[49m\u001b[38;5;241;43m=\u001b[39;49m\u001b[38;5;241;43m0.5\u001b[39;49m\u001b[43m,\u001b[49m\u001b[43m \u001b[49m\u001b[43muse_colnames\u001b[49m\u001b[38;5;241;43m=\u001b[39;49m\u001b[38;5;28;43;01mTrue\u001b[39;49;00m\u001b[43m)\u001b[49m\n\u001b[0;32m     10\u001b[0m rules \u001b[38;5;241m=\u001b[39m association_rules(frequent_itemsets, metric\u001b[38;5;241m=\u001b[39m\u001b[38;5;124m\"\u001b[39m\u001b[38;5;124mconfidence\u001b[39m\u001b[38;5;124m\"\u001b[39m, min_threshold \u001b[38;5;241m=\u001b[39m \u001b[38;5;241m0.6\u001b[39m)\n\u001b[0;32m     12\u001b[0m \u001b[38;5;28mprint\u001b[39m(\u001b[38;5;124m\"\u001b[39m\u001b[38;5;124mFrequent Patterns: \u001b[39m\u001b[38;5;130;01m\\n\u001b[39;00m\u001b[38;5;124m\"\u001b[39m,frequent_itemsets)\n",
      "File \u001b[1;32mc:\\Users\\Atharva Funde\\AppData\\Local\\Programs\\Python\\Python312\\Lib\\site-packages\\mlxtend\\frequent_patterns\\apriori.py:241\u001b[0m, in \u001b[0;36mapriori\u001b[1;34m(df, min_support, use_colnames, max_len, verbose, low_memory)\u001b[0m\n\u001b[0;32m    234\u001b[0m \u001b[38;5;28;01mif\u001b[39;00m min_support \u001b[38;5;241m<\u001b[39m\u001b[38;5;241m=\u001b[39m \u001b[38;5;241m0.0\u001b[39m:\n\u001b[0;32m    235\u001b[0m     \u001b[38;5;28;01mraise\u001b[39;00m \u001b[38;5;167;01mValueError\u001b[39;00m(\n\u001b[0;32m    236\u001b[0m         \u001b[38;5;124m\"\u001b[39m\u001b[38;5;124m`min_support` must be a positive \u001b[39m\u001b[38;5;124m\"\u001b[39m\n\u001b[0;32m    237\u001b[0m         \u001b[38;5;124m\"\u001b[39m\u001b[38;5;124mnumber within the interval `(0, 1]`. \u001b[39m\u001b[38;5;124m\"\u001b[39m\n\u001b[0;32m    238\u001b[0m         \u001b[38;5;124m\"\u001b[39m\u001b[38;5;124mGot \u001b[39m\u001b[38;5;132;01m%s\u001b[39;00m\u001b[38;5;124m.\u001b[39m\u001b[38;5;124m\"\u001b[39m \u001b[38;5;241m%\u001b[39m min_support\n\u001b[0;32m    239\u001b[0m     )\n\u001b[1;32m--> 241\u001b[0m \u001b[43mfpc\u001b[49m\u001b[38;5;241;43m.\u001b[39;49m\u001b[43mvalid_input_check\u001b[49m\u001b[43m(\u001b[49m\u001b[43mdf\u001b[49m\u001b[43m)\u001b[49m\n\u001b[0;32m    243\u001b[0m \u001b[38;5;28;01mif\u001b[39;00m \u001b[38;5;28mhasattr\u001b[39m(df, \u001b[38;5;124m\"\u001b[39m\u001b[38;5;124msparse\u001b[39m\u001b[38;5;124m\"\u001b[39m):\n\u001b[0;32m    244\u001b[0m     \u001b[38;5;66;03m# DataFrame with SparseArray (pandas >= 0.24)\u001b[39;00m\n\u001b[0;32m    245\u001b[0m     \u001b[38;5;28;01mif\u001b[39;00m df\u001b[38;5;241m.\u001b[39msize \u001b[38;5;241m==\u001b[39m \u001b[38;5;241m0\u001b[39m:\n",
      "File \u001b[1;32mc:\\Users\\Atharva Funde\\AppData\\Local\\Programs\\Python\\Python312\\Lib\\site-packages\\mlxtend\\frequent_patterns\\fpcommon.py:209\u001b[0m, in \u001b[0;36mvalid_input_check\u001b[1;34m(df, null_values)\u001b[0m\n\u001b[0;32m    204\u001b[0m \u001b[38;5;28;01mif\u001b[39;00m null_values:\n\u001b[0;32m    205\u001b[0m     s \u001b[38;5;241m=\u001b[39m (\n\u001b[0;32m    206\u001b[0m         \u001b[38;5;124m\"\u001b[39m\u001b[38;5;124mThe allowed values for a DataFrame\u001b[39m\u001b[38;5;124m\"\u001b[39m\n\u001b[0;32m    207\u001b[0m         \u001b[38;5;124m\"\u001b[39m\u001b[38;5;124m are True, False, 0, 1, NaN. Found value \u001b[39m\u001b[38;5;132;01m%s\u001b[39;00m\u001b[38;5;124m\"\u001b[39m \u001b[38;5;241m%\u001b[39m (val)\n\u001b[0;32m    208\u001b[0m     )\n\u001b[1;32m--> 209\u001b[0m \u001b[38;5;28;01mraise\u001b[39;00m \u001b[38;5;167;01mValueError\u001b[39;00m(s)\n",
      "\u001b[1;31mValueError\u001b[0m: The allowed values for a DataFrame are True, False, 0, 1. Found value {} => {NIRVANA HOOKAH SINGLE         }"
     ]
    }
   ],
   "source": [
    "import pandas as pd\n",
    "from mlxtend.frequent_patterns import apriori, association_rules\n",
    "\n",
    "data = pd.read_csv('Market_Basket_analysis.csv')\n",
    "\n",
    "df = pd.DataFrame(data)\n",
    "\n",
    "frequent_itemsets = apriori(df, min_support=0.5, use_colnames=True)\n",
    "\n",
    "rules = association_rules(frequent_itemsets, metric=\"confidence\", min_threshold = 0.6)\n",
    "\n",
    "print(\"Frequent Patterns: \\n\",frequent_itemsets)\n",
    "print(\"Rules\", rules[['antecedents','consequents','support','confidence']])"
   ]
  },
  {
   "cell_type": "code",
   "execution_count": null,
   "metadata": {},
   "outputs": [],
   "source": []
  }
 ],
 "metadata": {
  "kernelspec": {
   "display_name": "Python 3",
   "language": "python",
   "name": "python3"
  },
  "language_info": {
   "codemirror_mode": {
    "name": "ipython",
    "version": 3
   },
   "file_extension": ".py",
   "mimetype": "text/x-python",
   "name": "python",
   "nbconvert_exporter": "python",
   "pygments_lexer": "ipython3",
   "version": "3.12.4"
  }
 },
 "nbformat": 4,
 "nbformat_minor": 2
}
