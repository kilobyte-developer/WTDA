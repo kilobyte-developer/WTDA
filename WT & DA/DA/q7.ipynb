{
 "cells": [
  {
   "cell_type": "code",
   "execution_count": 1,
   "metadata": {},
   "outputs": [
    {
     "name": "stdout",
     "output_type": "stream",
     "text": [
      "Frequent Itemsets:\n",
      "    support        itemsets\n",
      "0      0.8          (Milk)\n",
      "1      0.8         (Bread)\n",
      "2      0.6          (Eggs)\n",
      "3      0.6        (Butter)\n",
      "4      0.6   (Bread, Milk)\n",
      "5      0.6  (Butter, Milk)\n",
      "\n",
      "Association Rules:\n",
      "   antecedents consequents  support  confidence\n",
      "0     (Bread)      (Milk)      0.6        0.75\n",
      "1      (Milk)     (Bread)      0.6        0.75\n",
      "2    (Butter)      (Milk)      0.6        1.00\n",
      "3      (Milk)    (Butter)      0.6        0.75\n"
     ]
    },
    {
     "name": "stderr",
     "output_type": "stream",
     "text": [
      "c:\\Users\\Atharva Funde\\AppData\\Local\\Programs\\Python\\Python312\\Lib\\site-packages\\mlxtend\\frequent_patterns\\fpcommon.py:161: DeprecationWarning: DataFrames with non-bool types result in worse computationalperformance and their support might be discontinued in the future.Please use a DataFrame with bool type\n",
      "  warnings.warn(\n"
     ]
    }
   ],
   "source": [
    "import pandas as pd\n",
    "from mlxtend.frequent_patterns import apriori, association_rules\n",
    "\n",
    "# Sample Groceries dataset\n",
    "data = {\n",
    "    'TID': [1, 2, 3, 4, 5],\n",
    "    'Milk': [1, 0, 1, 1, 1],\n",
    "    'Bread': [1, 1, 0, 1, 1],\n",
    "    'Eggs': [0, 1, 1, 0, 1],\n",
    "    'Butter': [1, 0, 1, 1, 0],\n",
    "    'Juice': [0, 1, 0, 1, 0]\n",
    "}\n",
    "\n",
    "# Convert to DataFrame\n",
    "df = pd.DataFrame(data).set_index('TID')\n",
    "\n",
    "# Apply Apriori algorithm\n",
    "frequent_itemsets = apriori(df, min_support=0.5, use_colnames=True)\n",
    "\n",
    "# Generate association rules\n",
    "rules = association_rules(frequent_itemsets, metric=\"confidence\", min_threshold=0.6)\n",
    "\n",
    "# Print results\n",
    "print(\"Frequent Itemsets:\\n\", frequent_itemsets)\n",
    "print(\"\\nAssociation Rules:\\n\", rules[['antecedents', 'consequents', 'support', 'confidence']])\n"
   ]
  }
 ],
 "metadata": {
  "kernelspec": {
   "display_name": "Python 3",
   "language": "python",
   "name": "python3"
  },
  "language_info": {
   "codemirror_mode": {
    "name": "ipython",
    "version": 3
   },
   "file_extension": ".py",
   "mimetype": "text/x-python",
   "name": "python",
   "nbconvert_exporter": "python",
   "pygments_lexer": "ipython3",
   "version": "3.12.4"
  }
 },
 "nbformat": 4,
 "nbformat_minor": 2
}
